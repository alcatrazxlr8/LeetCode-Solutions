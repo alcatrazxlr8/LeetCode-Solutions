{
 "cells": [
  {
   "cell_type": "code",
   "execution_count": 3,
   "metadata": {},
   "outputs": [
    {
     "name": "stdout",
     "output_type": "stream",
     "text": [
      "[3, 1, 2]\n",
      "[3, 1]\n",
      "[3, 2]\n",
      "[3]\n",
      "[1, 2]\n",
      "[1]\n",
      "[2]\n",
      "[]\n"
     ]
    }
   ],
   "source": [
    "###### print all subsequences\n",
    "\n",
    "def rec(i, nums, ans):\n",
    "\tif i == len(nums):\n",
    "\t\tprint(ans)\n",
    "\t\treturn\n",
    "\tans.append(nums[i])\n",
    "\trec(i+1, nums, ans)\n",
    "\tans.pop()\n",
    "\trec(i+1, nums, ans)\n",
    "\n",
    "# def solve():\n",
    "nums = [3,1,2]\n",
    "n = len(nums)\n",
    "ans = []\n",
    "rec(0, nums, ans)"
   ]
  },
  {
   "cell_type": "code",
   "execution_count": 6,
   "metadata": {},
   "outputs": [
    {
     "name": "stdout",
     "output_type": "stream",
     "text": [
      "2\n"
     ]
    }
   ],
   "source": [
    "###### print any subsequence with sum (k)\n",
    "\n",
    "def rec(i, s, nums, total):\n",
    "\tif i == len(nums):\n",
    "\t\tif s == total:\n",
    "\t\t\treturn 1\n",
    "\t\telse:\n",
    "\t\t\treturn 0\n",
    "\n",
    "\ts += nums[i]\n",
    "\tl = rec(i+1, s, nums, total)\n",
    "\ts -= nums[i]\n",
    "\tr = rec(i+1, s, nums, total)\n",
    "\n",
    "\treturn l + r\n",
    "\n",
    "nums = [1,2,1]\n",
    "total = 2\n",
    "print(rec(0, 0, nums, total))"
   ]
  },
  {
   "cell_type": "code",
   "execution_count": null,
   "metadata": {},
   "outputs": [],
   "source": [
    "import unittest\n",
    "from typing import List\n",
    "\n",
    "# Paste your solution function here\n",
    "# def solution(queries: List[str], diff: int) -> List[int]:\n",
    "    # Your optimized solution code goes here\n",
    "    # Remove this line when you paste your code\n",
    "def solution(queries: List[str], diff: int) -> List[int]:\n",
    "    counter = defaultdict(int)\n",
    "    counts = []\n",
    "    total_triples = 0\n",
    "\n",
    "    def update_triples(num, delta):\n",
    "        nonlocal total_triples\n",
    "        total_triples -= counter[num - 2*diff] * counter[num - diff] * counter[num]\n",
    "        total_triples -= counter[num - diff] * counter[num] * counter[num + diff]\n",
    "        total_triples -= counter[num] * counter[num + diff] * counter[num + 2*diff]\n",
    "        \n",
    "        counter[num] += delta\n",
    "        \n",
    "        total_triples += counter[num - 2*diff] * counter[num - diff] * counter[num]\n",
    "        total_triples += counter[num - diff] * counter[num] * counter[num + diff]\n",
    "        total_triples += counter[num] * counter[num + diff] * counter[num + 2*diff]\n",
    "\n",
    "    for query in queries:\n",
    "        x = int(query[1:])\n",
    "        if query[0] == '+':\n",
    "            update_triples(x, 1)\n",
    "        else:  # query[0] == '-'\n",
    "            update_triples(x, -counter[x])\n",
    "        \n",
    "        counts.append(total_triples)\n",
    "\n",
    "    return counts\n",
    "\n",
    "class TestQueryProcessingSolution(unittest.TestCase):\n",
    "    def test_example_case(self):\n",
    "        queries = [\"+4\", \"+5\", \"+6\", \"+4\", \"+3\", \"-4\"]\n",
    "        diff = 1\n",
    "        expected = [0, 0, 1, 2, 4, 0]\n",
    "        self.assertEqual(solution(queries, diff), expected)\n",
    "\n",
    "    def test_empty_queries(self):\n",
    "        queries = []\n",
    "        diff = 1\n",
    "        expected = []\n",
    "        self.assertEqual(solution(queries, diff), expected)\n",
    "\n",
    "    def test_single_query(self):\n",
    "        queries = [\"+5\"]\n",
    "        diff = 2\n",
    "        expected = [0]\n",
    "        self.assertEqual(solution(queries, diff), expected)\n",
    "\n",
    "    def test_all_same_number(self):\n",
    "        queries = [\"+3\", \"+3\", \"+3\", \"+3\"]\n",
    "        diff = 0\n",
    "        expected = [0, 0, 1, 4]\n",
    "        self.assertEqual(solution(queries, diff), expected)\n",
    "\n",
    "    def test_negative_numbers(self):\n",
    "        queries = [\"+1\", \"-2\", \"+3\", \"-4\", \"+5\"]\n",
    "        diff = 3\n",
    "        expected = [0, 0, 0, 0, 1]\n",
    "        self.assertEqual(solution(queries, diff), expected)\n",
    "\n",
    "    def test_large_diff(self):\n",
    "        queries = [\"+1\", \"+1000000001\", \"+2000000001\"]\n",
    "        diff = 1000000000\n",
    "        expected = [0, 0, 1]\n",
    "        self.assertEqual(solution(queries, diff), expected)\n",
    "\n",
    "    def test_remove_nonexistent(self):\n",
    "        queries = [\"+1\", \"+2\", \"+3\", \"-4\"]\n",
    "        diff = 1\n",
    "        expected = [0, 0, 1, 1]\n",
    "        self.assertEqual(solution(queries, diff), expected)\n",
    "\n",
    "    def test_complex_sequence(self):\n",
    "        queries = [\"+1\", \"+2\", \"+3\", \"+4\", \"+5\", \"-2\", \"+6\", \"-4\"]\n",
    "        diff = 2\n",
    "        expected = [0, 0, 0, 1, 2, 1, 2, 1]\n",
    "        self.assertEqual(solution(queries, diff), expected)\n",
    "\n",
    "if __name__ == '__main__':\n",
    "    unittest.main()"
   ]
  },
  {
   "cell_type": "code",
   "execution_count": 7,
   "metadata": {},
   "outputs": [
    {
     "name": "stdout",
     "output_type": "stream",
     "text": [
      "[[2, 6], [8]]\n"
     ]
    }
   ],
   "source": [
    "###### Combination Sum (one number can be used multiple times)\n",
    "\n",
    "def rec(i, target, arr, nums):\n",
    "\tif i == len(nums):\n",
    "\t\tif target == 0:\n",
    "\t\t\tans.append(arr.copy())\n",
    "\t\treturn\n",
    "\tif nums[i] <= target:\n",
    "\t\tarr.append(nums[i])\n",
    "\t\trec(i+1, target-nums[i], arr, nums)\n",
    "\t\tarr.pop()\n",
    "\trec(i+1, target, arr, nums)\n",
    "\n",
    "nums = [2,3,6,7,8]\n",
    "target = 8\n",
    "ans = []\n",
    "rec(0, target, [], nums)\n",
    "print(ans)"
   ]
  },
  {
   "cell_type": "code",
   "execution_count": null,
   "metadata": {},
   "outputs": [],
   "source": [
    "###### Combination Sum (one number can be used only once)\n",
    "\n",
    "# def rec(i, target, arr, nums):\n"
   ]
  },
  {
   "cell_type": "code",
   "execution_count": 18,
   "metadata": {},
   "outputs": [
    {
     "name": "stdout",
     "output_type": "stream",
     "text": [
      "[0, 2, 1, 3, 3, 5, 4, 6]\n",
      "[0, 1, 2, 3, 3, 4, 5, 6]\n"
     ]
    }
   ],
   "source": [
    "###### Subset Sum\n",
    "nums = [3,1,2]\n",
    "ans = []\n",
    "n = len(nums)\n",
    "\n",
    "def rec(i, sum):\n",
    "\tif i >= n:\n",
    "\t\tans.append(sum)\n",
    "\t\treturn\n",
    "\t\n",
    "\trec(i+1, sum)\n",
    "\t# sum += nums[i]\n",
    "\trec(i+1,sum+nums[i])\n",
    "\n",
    "rec(0, 0)\n",
    "print(ans)\n",
    "print(sorted(ans))"
   ]
  }
 ],
 "metadata": {
  "kernelspec": {
   "display_name": "Python 3",
   "language": "python",
   "name": "python3"
  },
  "language_info": {
   "codemirror_mode": {
    "name": "ipython",
    "version": 3
   },
   "file_extension": ".py",
   "mimetype": "text/x-python",
   "name": "python",
   "nbconvert_exporter": "python",
   "pygments_lexer": "ipython3",
   "version": "3.8.10"
  }
 },
 "nbformat": 4,
 "nbformat_minor": 2
}
